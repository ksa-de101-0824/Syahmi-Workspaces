{
 "cells": [
  {
   "cell_type": "code",
   "execution_count": null,
   "metadata": {},
   "outputs": [],
   "source": [
    "\"\"\"\n",
    "List : Store many ordered items (index) in a single variable, Mutable (can be change. can delete and update the list), boleh ada duplicate data. \n",
    "       list is better for sorting than dictionary\n",
    "       Example : [\"solar\", \"energy\", \"technology\"]\n",
    "Dictionary : Store items in key:value pairs, case sensitive, no duplicate data,dictionary is better for lookup\n",
    "       Example : {\"age\": 20, \"university\": \"UTP\", \"course\": \"Electrical Engineering\"}\n",
    "Set : Stored many unordered unique items in a single variable,no index,cannot do sorting, cannot access item inside, Mutable (can be change), no duplicate data, cannot access item inside\n",
    "      unless convert to List : list(set), lepas print the data is tak tersusun. Can do mathematical operation (Intersect dan union/difference - Venn diagram)\n",
    "       Example : {\"Rahman\", \"Aniq\", \"Alias}\n",
    "Tuple : Store many ordered items (index) in a single varible, Immutable (cannot be change)\n",
    "       Example : (\"red\", \"blue\", \"green\")\n",
    "\"\"\"\n"
   ]
  },
  {
   "cell_type": "code",
   "execution_count": null,
   "metadata": {},
   "outputs": [],
   "source": []
  }
 ],
 "metadata": {
  "kernelspec": {
   "display_name": "Python 3",
   "language": "python",
   "name": "python3"
  },
  "language_info": {
   "codemirror_mode": {
    "name": "ipython",
    "version": 3
   },
   "file_extension": ".py",
   "mimetype": "text/x-python",
   "name": "python",
   "nbconvert_exporter": "python",
   "pygments_lexer": "ipython3",
   "version": "3.12.1"
  }
 },
 "nbformat": 4,
 "nbformat_minor": 2
}

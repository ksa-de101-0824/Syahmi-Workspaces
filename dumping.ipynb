{
 "cells": [
  {
   "cell_type": "code",
   "execution_count": 1,
   "metadata": {},
   "outputs": [
    {
     "name": "stdout",
     "output_type": "stream",
     "text": [
      "Hello World\n"
     ]
    }
   ],
   "source": [
    "print(\"Hello World\")"
   ]
  },
  {
   "cell_type": "code",
   "execution_count": 2,
   "metadata": {},
   "outputs": [
    {
     "name": "stdout",
     "output_type": "stream",
     "text": [
      "My name is Nor Syahmi\n"
     ]
    }
   ],
   "source": [
    "print(\"My name is Nor Syahmi\")"
   ]
  },
  {
   "cell_type": "code",
   "execution_count": 2,
   "metadata": {},
   "outputs": [
    {
     "name": "stdout",
     "output_type": "stream",
     "text": [
      "Today I run for a distance of 3.44 km and burned 405Kcal for 68 minutes and 23 seconds\n",
      "<class 'str'>\n"
     ]
    }
   ],
   "source": [
    "distance = 3.44\n",
    "calories = 405\n",
    "time_in_minutes = 68\n",
    "time_in_seconds = 23\n",
    "print(f\"Today I run for a distance of {distance} km and burned {calories}Kcal for {time_in_minutes} minutes and {time_in_seconds} seconds\" )\n",
    "print(type(f\"Today I run for a distance of {distance} km and burned {calories}Kcal for {time_in_minutes} minutes and {time_in_seconds} seconds\" ))\n"
   ]
  },
  {
   "cell_type": "code",
   "execution_count": 17,
   "metadata": {},
   "outputs": [
    {
     "name": "stdout",
     "output_type": "stream",
     "text": [
      "Today I Run For A Distance Of 3.44 Km And Burned 405Kcal For 68 Minutes And 23 Seconds\n",
      "TODAY I RUN FOR A DISTANCE OF 3.44 KM AND BURNED 405KCAL FOR 68 MINUTES AND 23 SECONDS\n",
      "Today i run for a distance of 3.44 km and burned 405kcal for 68 minutes and 23 seconds\n",
      "['Today', 'I', 'run', 'for', 'a', 'distance', 'of', '3.44', 'km', 'and', 'burned', '405Kcal', 'for', '68', 'minutes', 'and', '23', 'seconds']\n",
      "Today I run for a distance of 4.00 km and burned 600Kcal for 75 minutes and 50 seconds\n"
     ]
    }
   ],
   "source": [
    "sentence = \"Today I run for a distance of 3.44 km and burned 405Kcal for 68 minutes and 23 seconds\"\n",
    "print(sentence.title())\n",
    "print(sentence.upper())\n",
    "print(sentence.capitalize())\n",
    "print(sentence.split())\n",
    "print(sentence.replace(\"3.44\", \"4.00\").replace(\"405\", \"600\").replace(\"68\",\"75\").replace(\"23\",\"50\"))\n"
   ]
  },
  {
   "cell_type": "code",
   "execution_count": 3,
   "metadata": {},
   "outputs": [
    {
     "name": "stdout",
     "output_type": "stream",
     "text": [
      "Hello, my name is Syahmi and I am25 years old\n"
     ]
    }
   ],
   "source": [
    "#How to print with different variable's datatype\n",
    "# OLD METHOD USING CONCAT AND STRING CASTING\n",
    "name = \"Syahmi\"\n",
    "age = 25\n",
    "print(\"Hello, my name is \" + name + \" and I am\" + str(age) + \" years old\")"
   ]
  },
  {
   "cell_type": "code",
   "execution_count": 5,
   "metadata": {},
   "outputs": [
    {
     "name": "stdout",
     "output_type": "stream",
     "text": [
      "Hello, my name is Syahmi, and I am 25 years old with height of 1.75 m\n",
      "the score will be 120\n"
     ]
    }
   ],
   "source": [
    "#PREFERRED WAY USING f STRING EXPRESSION. IT WILL CHANGE ANY VARIABLE TO string \n",
    "name = \"Syahmi\"\n",
    "age = 25\n",
    "height = 1.75\n",
    "print(f\"Hello, my name is {name}, and I am {age} years old with height of {height} m\")\n",
    "\n",
    "score_1 = 100\n",
    "score_2 = 20\n",
    "\n",
    "print(f\"the score will be {score_1 + score_2}\")\n"
   ]
  },
  {
   "cell_type": "code",
   "execution_count": 3,
   "metadata": {},
   "outputs": [
    {
     "name": "stdout",
     "output_type": "stream",
     "text": [
      "<class 'float'>\n",
      "12.45\n"
     ]
    }
   ],
   "source": [
    "num_1 = 10\n",
    "num_2 = 7.5\n",
    "num_3 = 2.45\n",
    "print(type(num_1+num_2))\n",
    "\n",
    "print(f\"{num_1+num_3}\")\n"
   ]
  },
  {
   "cell_type": "code",
   "execution_count": null,
   "metadata": {},
   "outputs": [],
   "source": []
  },
  {
   "cell_type": "code",
   "execution_count": 1,
   "metadata": {},
   "outputs": [],
   "source": [
    "import requests\n",
    "\n",
    "\"\"\"Exercise (7): Retrieve News Data from The Edge Malaysia API\n",
    "\n",
    "1. Each API call returns 10 news articles.\n",
    "2. The API accepts a parameter named 'offset' to indicate the starting index for fetching the news data.\n",
    "3. For example, if offset = 0, the API fetches news from index 0 to 10.\n",
    "   If offset = 10, it fetches news from index 10 to 20, and so forth.\n",
    "\n",
    "Task:\n",
    "1. Initialize an empty list to store all the news articles.\n",
    "2. Make 10 API calls in a loop to retrieve all the news data.\n",
    "3. Store the retrieved news articles in the list.\n",
    "\n",
    "\"\"\"\n",
    "\n",
    "def get_news_data(offset):\n",
    "    offset = offset * 10\n",
    "    url = f\"https://theedgemalaysia.com/api/loadMoreCategories\"\n",
    "    parameters = {\n",
    "        'offset': offset, # This is the starting index for fetching the news data\n",
    "        'categories': 'malaysia'\n",
    "    }\n",
    "    response = requests.get(url, params=parameters)\n",
    "    data = response.json()\n",
    "    results = data['results']\n",
    "    return results"
   ]
  },
  {
   "cell_type": "code",
   "execution_count": 5,
   "metadata": {},
   "outputs": [
    {
     "name": "stdout",
     "output_type": "stream",
     "text": [
      "{'pair': 'XRPMYR', 'timestamp': 1724590028676, 'bid': '2.620000000000000000', 'ask': '2.620100000000000000', 'last_trade': '2.620000000000000000', 'rolling_24_hour_volume': '825889.00000000', 'status': 'ACTIVE'}\n"
     ]
    }
   ],
   "source": [
    "#READ API DATA\n",
    "import requests\n",
    "url = 'https://api.mybitx.com/api/1/ticker?pair=XRPMYR'\n",
    "response = requests.get(url)\n",
    "data = response.json()\n",
    "print(data)\n"
   ]
  },
  {
   "cell_type": "code",
   "execution_count": 10,
   "metadata": {},
   "outputs": [
    {
     "name": "stdout",
     "output_type": "stream",
     "text": [
      "2024-01-20 00:00:00\n",
      "<class 'datetime.datetime'>\n"
     ]
    }
   ],
   "source": [
    "from datetime import datetime\n",
    "\n",
    "date_in_str = \"20/Jan-2024\"\n",
    "date_in_datetime = datetime.strptime(date_in_str, \"%d/%b-%Y\")\n",
    "print(date_in_datetime)\n",
    "print(type(date_in_datetime))\n",
    "\n",
    "year = date_in_datetime"
   ]
  },
  {
   "cell_type": "code",
   "execution_count": null,
   "metadata": {},
   "outputs": [],
   "source": []
  }
 ],
 "metadata": {
  "kernelspec": {
   "display_name": "Python 3",
   "language": "python",
   "name": "python3"
  },
  "language_info": {
   "codemirror_mode": {
    "name": "ipython",
    "version": 3
   },
   "file_extension": ".py",
   "mimetype": "text/x-python",
   "name": "python",
   "nbconvert_exporter": "python",
   "pygments_lexer": "ipython3",
   "version": "3.12.1"
  }
 },
 "nbformat": 4,
 "nbformat_minor": 2
}

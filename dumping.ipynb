{
 "cells": [
  {
   "cell_type": "code",
   "execution_count": 1,
   "metadata": {},
   "outputs": [
    {
     "name": "stdout",
     "output_type": "stream",
     "text": [
      "Hello World\n"
     ]
    }
   ],
   "source": [
    "print(\"Hello World\")"
   ]
  },
  {
   "cell_type": "code",
   "execution_count": 2,
   "metadata": {},
   "outputs": [
    {
     "name": "stdout",
     "output_type": "stream",
     "text": [
      "My name is Nor Syahmi\n"
     ]
    }
   ],
   "source": [
    "print(\"My name is Nor Syahmi\")"
   ]
  },
  {
   "cell_type": "code",
   "execution_count": 6,
   "metadata": {},
   "outputs": [
    {
     "name": "stdout",
     "output_type": "stream",
     "text": [
      "Today I run for a distance of 3.44 km and burned 405Kcal for 68 minutes and 23 seconds\n"
     ]
    }
   ],
   "source": [
    "distance = 3.44\n",
    "calories = 405\n",
    "time_in_minutes = 68\n",
    "time_in_seconds = 23\n",
    "print(f\"Today I run for a distance of {distance} km and burned {calories}Kcal for {time_in_minutes} minutes and {time_in_seconds} seconds\" )"
   ]
  },
  {
   "cell_type": "code",
   "execution_count": 17,
   "metadata": {},
   "outputs": [
    {
     "name": "stdout",
     "output_type": "stream",
     "text": [
      "Today I Run For A Distance Of 3.44 Km And Burned 405Kcal For 68 Minutes And 23 Seconds\n",
      "TODAY I RUN FOR A DISTANCE OF 3.44 KM AND BURNED 405KCAL FOR 68 MINUTES AND 23 SECONDS\n",
      "Today i run for a distance of 3.44 km and burned 405kcal for 68 minutes and 23 seconds\n",
      "['Today', 'I', 'run', 'for', 'a', 'distance', 'of', '3.44', 'km', 'and', 'burned', '405Kcal', 'for', '68', 'minutes', 'and', '23', 'seconds']\n",
      "Today I run for a distance of 4.00 km and burned 600Kcal for 75 minutes and 50 seconds\n"
     ]
    }
   ],
   "source": [
    "sentence = \"Today I run for a distance of 3.44 km and burned 405Kcal for 68 minutes and 23 seconds\"\n",
    "print(sentence.title())\n",
    "print(sentence.upper())\n",
    "print(sentence.capitalize())\n",
    "print(sentence.split())\n",
    "print(sentence.replace(\"3.44\", \"4.00\").replace(\"405\", \"600\").replace(\"68\",\"75\").replace(\"23\",\"50\"))"
   ]
  },
  {
   "cell_type": "code",
   "execution_count": null,
   "metadata": {},
   "outputs": [],
   "source": []
  }
 ],
 "metadata": {
  "kernelspec": {
   "display_name": "Python 3",
   "language": "python",
   "name": "python3"
  },
  "language_info": {
   "codemirror_mode": {
    "name": "ipython",
    "version": 3
   },
   "file_extension": ".py",
   "mimetype": "text/x-python",
   "name": "python",
   "nbconvert_exporter": "python",
   "pygments_lexer": "ipython3",
   "version": "3.12.1"
  }
 },
 "nbformat": 4,
 "nbformat_minor": 2
}
